{
 "cells": [
  {
   "cell_type": "markdown",
   "id": "653a8e49",
   "metadata": {},
   "source": [
    "<h1>End to End Generative AI Pipeline</h1>"
   ]
  },
  {
   "cell_type": "markdown",
   "id": "b0db705d",
   "metadata": {},
   "source": [
    "<h3>Generative AI Pipeline is a set of steps followed to build an end to end GenAI software</h3>"
   ]
  },
  {
   "cell_type": "markdown",
   "id": "d744a44c",
   "metadata": {},
   "source": [
    "Break the problem down into several sub-problems, then try to develop a step-by-step procedure to solve them. Since language processing is involved, we would also list all the forms of text processing needed at each step. This step-by-step processing of text is known as a pipeline"
   ]
  },
  {
   "cell_type": "markdown",
   "id": "f60cf59d",
   "metadata": {},
   "source": [
    "Chia nhỏ vấn đề thành nhiều vấn đề con, sau đó cố gắng phát triển một quy trình từng bước để giải quyết chúng. Vì xử lý ngôn ngữ có liên quan, chúng ta cũng sẽ liệt kê tất cả các hình thức xử lý văn bản cần thiết ở mỗi bước. Quá trình xử lý văn bản từng bước này được gọi là Pipeline"
   ]
  },
  {
   "cell_type": "markdown",
   "id": "ca359afb",
   "metadata": {},
   "source": [
    "<h2>Generative AI Pipeline</h2>\n",
    "\n",
    "- Data acquisition\n",
    "- Data Preparation\n",
    "- Feature engineering\n",
    "- Modeling\n",
    "- Evaluation\n",
    "- Deployment\n",
    "- Monitoring and model updating"
   ]
  },
  {
   "cell_type": "markdown",
   "id": "df690bb0",
   "metadata": {},
   "source": [
    "<h1>I. Data acquisition</h1>"
   ]
  },
  {
   "cell_type": "markdown",
   "id": "5beecca4",
   "metadata": {},
   "source": [
    "Data acquisition: là quá trình thu thập, đo lường và chuyển đổi thông tin (dữ liệu) từ thế giới thực thành dạng kỹ thuật số để lưu trữ, xử lý và phân tích bằng máy tính.\n",
    "\n"
   ]
  },
  {
   "cell_type": "markdown",
   "id": "6e1cb4bd",
   "metadata": {},
   "source": [
    "- Available data (CSV, txt, PDF, Docs, XLSX)\n",
    "- Other data (DB, Internet, API, scapping)\n",
    "- No data (create your own data)"
   ]
  },
  {
   "cell_type": "markdown",
   "id": "97099847",
   "metadata": {},
   "source": [
    "*<h3>IF you have less data the you can perform Data Augmentation</h3>*"
   ]
  },
  {
   "cell_type": "markdown",
   "id": "0c5f9654",
   "metadata": {},
   "source": [
    "<h3>1. Replace with synonyms</h3>\n",
    "        I am a Data scientist -> I am a AI Engineer\n",
    "....."
   ]
  },
  {
   "cell_type": "markdown",
   "id": "2b8dca75",
   "metadata": {},
   "source": [
    "<h1>II. Data preprocessing</h1>"
   ]
  },
  {
   "cell_type": "markdown",
   "id": "97ff9081",
   "metadata": {},
   "source": [
    "<h5>1. Cleanup: HTML, emoji, spelling connection</h5>"
   ]
  },
  {
   "cell_type": "markdown",
   "id": "986db60b",
   "metadata": {},
   "source": [
    "<h5>2. Basic preprocessing</h5>\n"
   ]
  },
  {
   "cell_type": "markdown",
   "id": "d0f77461",
   "metadata": {},
   "source": [
    "- Tokenization"
   ]
  },
  {
   "cell_type": "code",
   "execution_count": null,
   "id": "4255c778",
   "metadata": {},
   "outputs": [],
   "source": [
    "a = [\"My name is Ngoc Son\"]\n",
    "a = [\"My\", \"name\", \"is\", \"Ngoc\", \"Son\"]     "
   ]
  },
  {
   "cell_type": "markdown",
   "id": "92e12447",
   "metadata": {},
   "source": [
    "- Stop word removal\n",
    "\n",
    "    - Stop word removal (tiếng Việt: loại bỏ từ dừng) là một kỹ thuật phổ biến trong xử lý ngôn ngữ tự nhiên (NLP), được dùng để loại bỏ các từ ít mang ý nghĩa trong văn bản – thường là những từ xuất hiện rất nhiều nhưng không đóng góp nhiều vào việc hiểu nội dung, như: \"là\", \"và\", \"của\", \"the\", \"is\", \"in\",...\n"
   ]
  },
  {
   "cell_type": "markdown",
   "id": "553fb992",
   "metadata": {},
   "source": [
    "- Stemming(Less used)\n",
    "    - Stemming (tiếng Việt thường gọi là rút gọn từ hoặc gốc từ) là một kỹ thuật trong xử lý ngôn ngữ tự nhiên (NLP) dùng để chuyển một từ về gốc của nó – tức là loại bỏ các hậu tố (đuôi từ) để đưa từ về dạng cơ bản nhất."
   ]
  },
  {
   "cell_type": "code",
   "execution_count": null,
   "id": "16f52fd3",
   "metadata": {},
   "outputs": [],
   "source": [
    "a = [\"playing\", \"played\", \"plays\"]\n",
    "a = [\"play\"]"
   ]
  },
  {
   "cell_type": "markdown",
   "id": "2d104dce",
   "metadata": {},
   "source": [
    "- Lamatization"
   ]
  },
  {
   "cell_type": "markdown",
   "id": "67f40e83",
   "metadata": {},
   "source": [
    "- Punetuation removal"
   ]
  },
  {
   "cell_type": "markdown",
   "id": "6354c7ad",
   "metadata": {},
   "source": [
    "- Lower case"
   ]
  },
  {
   "cell_type": "markdown",
   "id": "55b8b54e",
   "metadata": {},
   "source": [
    "- Language detection"
   ]
  },
  {
   "cell_type": "markdown",
   "id": "6063c2ed",
   "metadata": {},
   "source": [
    "<h5>2. Advance preprocessing</h5>\n",
    "\n",
    "- Parts of speech tagging (POS Tagging)\n",
    "    - Đây là kỹ thuật trong xử lý ngôn ngữ tự nhiên (NLP) dùng để xác định và gắn nhãn loại từ (tính từ, danh từ, động từ...) cho mỗi từ trong câu.Đây là kỹ thuật trong xử lý ngôn ngữ tự nhiên (NLP) dùng để xác định và gắn nhãn loại từ (tính từ, danh từ, động từ...) cho mỗi từ trong câu.\n",
    "\n",
    "        + Từ\t+ Từ loại (POS)\n",
    "        - The \t- Determiner (DT)\n",
    "        - cat \t- Noun (NN)\n",
    "        - sits\t- Verb (VBZ)\n",
    "        - on\t- Preposition (IN)\n",
    "        - the\t- Determiner (DT)\n",
    "        - mat\t- Noun (NN)\n",
    "- Passing: giúp máy tính hiểu cấu trúc ngữ pháp của câu giống như cách con người hiểu.\n",
    "    - \"The dog\" là chủ ngữ (subject) – một cụm danh từ (noun phrase).\n",
    "\n",
    "    - \"chased\" là động từ chính (verb).\n",
    "\n",
    "    - \"the cat\" là tân ngữ (object) – một cụm danh từ.\n",
    "\n",
    "- Co-reference resolution\n",
    "    - Là quá trình xác định các từ/ngữ đề cập đến cùng một thực thể trong văn bản.\n",
    "        - \"Mary said she would come.\"\n",
    "        -> \"she\" và \"Mary\" là co-reference."
   ]
  },
  {
   "cell_type": "markdown",
   "id": "b7867537",
   "metadata": {},
   "source": [
    "<h1>III. Feature Engineering</h1>"
   ]
  },
  {
   "cell_type": "markdown",
   "id": "0b6d30f4",
   "metadata": {},
   "source": [
    "<h3>1. Text Vectorization</h3>\n",
    "\n",
    "- TFIDF\n",
    "- Bag of word\n",
    "- Word2Vec\n",
    "- One hot\n",
    "- Transformers model"
   ]
  },
  {
   "cell_type": "markdown",
   "id": "aed77de9",
   "metadata": {},
   "source": [
    "<h1>IV. Modeling</h1>\n"
   ]
  },
  {
   "cell_type": "markdown",
   "id": "9d09deb7",
   "metadata": {},
   "source": [
    "- Open source LLM\n",
    "- Paid model: Open AI"
   ]
  },
  {
   "cell_type": "markdown",
   "id": "565c744f",
   "metadata": {},
   "source": [
    "<h1>V. Evaluation</h1>\n",
    "\n",
    "<h3>1. Intrinsic</h3>\n",
    "- Intrinsic evaluation là phương pháp đánh giá mô hình dựa vào kết quả hoặc các đặc tính nội tại của hệ thống, không phụ thuộc vào ứng dụng thực tế của nó. Nói cách khác, bạn đánh giá mức độ chính xác của mô hình chỉ qua các chỉ số đo lường cụ thể, mà không cần quan tâm đến hiệu quả cuối cùng khi áp dụng mô hình vào bài toán thực tế.\n",
    "\n",
    "🧠 Các chỉ số phổ biến trong intrinsic evaluation:\n",
    "Accuracy: Tỉ lệ đúng của mô hình.\n",
    "\n",
    "- Precision, Recall, F1-score: Đo lường độ chính xác và khả năng tìm ra các kết quả đúng.\n",
    "\n",
    "- Perplexity: Được sử dụng trong các mô hình ngôn ngữ (language models), đo lường độ bất ngờ khi dự đoán một từ tiếp theo.\n",
    "\n",
    "- BLEU, ROUGE: Các chỉ số đánh giá chất lượng dịch máy hoặc tóm tắt văn bản, so sánh kết quả với \"reference\" (tham chiếu).\n",
    "\n",
    "📌 Ví dụ:\n",
    "\n",
    "- Đánh giá một mô hình dịch máy bằng cách so sánh kết quả dịch với bản dịch chuẩn.\n",
    "\n",
    "- Đánh giá mô hình phân loại văn bản bằng cách tính độ chính xác giữa nhãn dự đoán và nhãn thực tế.\n",
    "<h3>2. Extrinsic</h3>\n",
    "\n",
    "- Extrinsic evaluation là phương pháp đánh giá mô hình dựa vào hiệu quả của nó trong một ứng dụng thực tế, tức là mô hình được đánh giá trong bối cảnh tác vụ cụ thể mà nó phục vụ. Ở đây, bạn đánh giá mức độ hữu ích của mô hình đối với một nhiệm vụ thực tế thay vì chỉ đánh giá các đặc tính nội tại.\n",
    "\n",
    "🧠 Các chỉ số phổ biến trong extrinsic evaluation:\n",
    "- Hiệu quả thực tế của mô hình trong ứng dụng thực tế: Ví dụ, một mô hình dịch máy được đánh giá thông qua mức độ cải thiện trải nghiệm người dùng trong một ứng dụng dịch thuật.\n",
    "\n",
    "- Task-based performance: Đánh giá một mô hình phân loại hoặc tóm tắt văn bản thông qua tác vụ cuối cùng mà nó phục vụ (ví dụ: phân loại email spam, tóm tắt báo cáo).\n",
    "\n",
    "📌 Ví dụ:\n",
    "- Đánh giá một mô hình chatbot qua việc nó có giải quyết tốt các câu hỏi của người dùng hay không.\n",
    "\n",
    "- Đánh giá mô hình tìm kiếm thông tin (information retrieval) qua việc nó có trả về kết quả đúng với nhu cầu người dùng.\n"
   ]
  },
  {
   "cell_type": "markdown",
   "id": "663f3471",
   "metadata": {},
   "source": [
    "<h1>VI. Deployment</h1>\n",
    "\n",
    "<h3>1. Monitoring</h3>\n",
    "<h3>2. Retraining</h3>"
   ]
  }
 ],
 "metadata": {
  "kernelspec": {
   "display_name": "myenv",
   "language": "python",
   "name": "python3"
  },
  "language_info": {
   "name": "python",
   "version": "3.12.9"
  }
 },
 "nbformat": 4,
 "nbformat_minor": 5
}
