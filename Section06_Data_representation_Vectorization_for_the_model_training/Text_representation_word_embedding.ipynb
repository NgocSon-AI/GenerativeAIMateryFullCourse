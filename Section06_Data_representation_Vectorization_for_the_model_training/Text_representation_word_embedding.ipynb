{
 "cells": [
  {
   "cell_type": "markdown",
   "id": "8361c7d5",
   "metadata": {},
   "source": [
    "Some common terms to remember\n",
    "1. Corpus\n",
    "2. Vocabulary\n",
    "3. Document\n",
    "4. Word"
   ]
  },
  {
   "cell_type": "markdown",
   "id": "0c43a02c",
   "metadata": {},
   "source": [
    "<h1>Bag Of Words</h1>"
   ]
  },
  {
   "cell_type": "code",
   "execution_count": 1,
   "id": "683c958f",
   "metadata": {},
   "outputs": [],
   "source": [
    "import numpy as np\n",
    "import pandas as pd"
   ]
  },
  {
   "cell_type": "code",
   "execution_count": 6,
   "id": "49e8eeed",
   "metadata": {},
   "outputs": [
    {
     "name": "stdout",
     "output_type": "stream",
     "text": [
      "                     text  output\n",
      "0    people watch ngocson       1\n",
      "1  ngocson watch thuytien       1\n",
      "2    people write comment       0\n",
      "3         hello Thuy Tien       1\n",
      "4          Hello Ngoc Son       1\n"
     ]
    }
   ],
   "source": [
    "import pandas as pd\n",
    "\n",
    "df = pd.DataFrame({\n",
    "    \"text\": [\"people watch ngocson\",\n",
    "             \"ngocson watch thuytien\",\n",
    "             \"people write comment\",\n",
    "             \"hello Thuy Tien\",  # Added a comma here\n",
    "             \"Hello Ngoc Son\"],\n",
    "    \"output\": [1, 1, 0, 1, 1]  # This list should now match the length of \"text\"\n",
    "})\n",
    "\n",
    "print(df)"
   ]
  },
  {
   "cell_type": "code",
   "execution_count": 7,
   "id": "d3664d98",
   "metadata": {},
   "outputs": [],
   "source": [
    "from sklearn.feature_extraction.text import CountVectorizer\n",
    "cv = CountVectorizer()"
   ]
  },
  {
   "cell_type": "code",
   "execution_count": 8,
   "id": "f0091ae9",
   "metadata": {},
   "outputs": [],
   "source": [
    "bow = cv.fit_transform(df['text'])"
   ]
  },
  {
   "cell_type": "code",
   "execution_count": 9,
   "id": "eb372a65",
   "metadata": {},
   "outputs": [
    {
     "name": "stdout",
     "output_type": "stream",
     "text": [
      "{'people': 4, 'watch': 9, 'ngocson': 3, 'thuytien': 7, 'write': 10, 'comment': 0, 'hello': 1, 'thuy': 6, 'tien': 8, 'ngoc': 2, 'son': 5}\n"
     ]
    }
   ],
   "source": [
    "print(cv.vocabulary_)"
   ]
  },
  {
   "cell_type": "code",
   "execution_count": 10,
   "id": "828d94e1",
   "metadata": {},
   "outputs": [
    {
     "data": {
      "text/plain": [
       "array([[0, 0, 0, 1, 1, 0, 0, 0, 0, 1, 0],\n",
       "       [0, 0, 0, 1, 0, 0, 0, 1, 0, 1, 0],\n",
       "       [1, 0, 0, 0, 1, 0, 0, 0, 0, 0, 1],\n",
       "       [0, 1, 0, 0, 0, 0, 1, 0, 1, 0, 0],\n",
       "       [0, 1, 1, 0, 0, 1, 0, 0, 0, 0, 0]])"
      ]
     },
     "execution_count": 10,
     "metadata": {},
     "output_type": "execute_result"
    }
   ],
   "source": [
    "bow.toarray()"
   ]
  },
  {
   "cell_type": "code",
   "execution_count": 12,
   "id": "19a72f97",
   "metadata": {},
   "outputs": [
    {
     "name": "stdout",
     "output_type": "stream",
     "text": [
      "[[0 0 0 1 1 0 0 0 0 1 0]]\n",
      "[[0 0 0 1 0 0 0 1 0 1 0]]\n",
      "[[1 0 0 0 1 0 0 0 0 0 1]]\n"
     ]
    }
   ],
   "source": [
    "print(bow[0].toarray())\n",
    "print(bow[1].toarray())\n",
    "print(bow[2].toarray())\n"
   ]
  },
  {
   "cell_type": "code",
   "execution_count": 13,
   "id": "39650190",
   "metadata": {},
   "outputs": [
    {
     "data": {
      "text/plain": [
       "array([[0, 0, 1, 0, 0, 1, 1, 0, 1, 1, 0]])"
      ]
     },
     "execution_count": 13,
     "metadata": {},
     "output_type": "execute_result"
    }
   ],
   "source": [
    "cv.transform(['Ngoc Son watch Thuy Tien']).toarray()"
   ]
  },
  {
   "cell_type": "code",
   "execution_count": 15,
   "id": "bdf0a374",
   "metadata": {},
   "outputs": [],
   "source": [
    "X = bow.toarray()\n",
    "y = df['output']"
   ]
  },
  {
   "cell_type": "code",
   "execution_count": 16,
   "id": "0ccad391",
   "metadata": {},
   "outputs": [
    {
     "data": {
      "text/plain": [
       "0    1\n",
       "1    1\n",
       "2    0\n",
       "3    1\n",
       "4    1\n",
       "Name: output, dtype: int64"
      ]
     },
     "execution_count": 16,
     "metadata": {},
     "output_type": "execute_result"
    }
   ],
   "source": [
    "y"
   ]
  },
  {
   "cell_type": "markdown",
   "id": "680505eb",
   "metadata": {},
   "source": [
    "<h1>N-Grams</h1>"
   ]
  },
  {
   "cell_type": "code",
   "execution_count": 17,
   "id": "13a776a3",
   "metadata": {},
   "outputs": [
    {
     "data": {
      "text/html": [
       "<div>\n",
       "<style scoped>\n",
       "    .dataframe tbody tr th:only-of-type {\n",
       "        vertical-align: middle;\n",
       "    }\n",
       "\n",
       "    .dataframe tbody tr th {\n",
       "        vertical-align: top;\n",
       "    }\n",
       "\n",
       "    .dataframe thead th {\n",
       "        text-align: right;\n",
       "    }\n",
       "</style>\n",
       "<table border=\"1\" class=\"dataframe\">\n",
       "  <thead>\n",
       "    <tr style=\"text-align: right;\">\n",
       "      <th></th>\n",
       "      <th>text</th>\n",
       "      <th>output</th>\n",
       "    </tr>\n",
       "  </thead>\n",
       "  <tbody>\n",
       "    <tr>\n",
       "      <th>0</th>\n",
       "      <td>People watch Ngoc Son</td>\n",
       "      <td>1</td>\n",
       "    </tr>\n",
       "    <tr>\n",
       "      <th>1</th>\n",
       "      <td>Ngoc Son watch Ngoc Son</td>\n",
       "      <td>1</td>\n",
       "    </tr>\n",
       "    <tr>\n",
       "      <th>2</th>\n",
       "      <td>Thuy tien watch Ngoc Son</td>\n",
       "      <td>0</td>\n",
       "    </tr>\n",
       "    <tr>\n",
       "      <th>3</th>\n",
       "      <td>Ngoc Son watch Thuy Tien</td>\n",
       "      <td>0</td>\n",
       "    </tr>\n",
       "    <tr>\n",
       "      <th>4</th>\n",
       "      <td>Hello Ngoc Son Thuy Tien</td>\n",
       "      <td>0</td>\n",
       "    </tr>\n",
       "  </tbody>\n",
       "</table>\n",
       "</div>"
      ],
      "text/plain": [
       "                       text  output\n",
       "0     People watch Ngoc Son       1\n",
       "1   Ngoc Son watch Ngoc Son       1\n",
       "2  Thuy tien watch Ngoc Son       0\n",
       "3  Ngoc Son watch Thuy Tien       0\n",
       "4  Hello Ngoc Son Thuy Tien       0"
      ]
     },
     "execution_count": 17,
     "metadata": {},
     "output_type": "execute_result"
    }
   ],
   "source": [
    "df = pd.DataFrame({\"text\": [\"People watch Ngoc Son\",\n",
    "                            \"Ngoc Son watch Ngoc Son\",\n",
    "                            \"Thuy tien watch Ngoc Son\",\n",
    "                            \"Ngoc Son watch Thuy Tien\",\n",
    "                            \"Hello Ngoc Son Thuy Tien\"], \"output\":[1, 1, 0, 0, 0]})\n",
    "\n",
    "df"
   ]
  },
  {
   "cell_type": "code",
   "execution_count": 18,
   "id": "6ef71172",
   "metadata": {},
   "outputs": [],
   "source": [
    "from sklearn.feature_extraction.text import CountVectorizer\n",
    "cv = CountVectorizer(ngram_range=(2, 2))"
   ]
  },
  {
   "cell_type": "code",
   "execution_count": 19,
   "id": "ce84e584",
   "metadata": {},
   "outputs": [],
   "source": [
    "bow = cv.fit_transform(df['text'])"
   ]
  },
  {
   "cell_type": "code",
   "execution_count": 20,
   "id": "9291576a",
   "metadata": {},
   "outputs": [
    {
     "name": "stdout",
     "output_type": "stream",
     "text": [
      "{'people watch': 2, 'watch ngoc': 7, 'ngoc son': 1, 'son watch': 4, 'thuy tien': 5, 'tien watch': 6, 'watch thuy': 8, 'hello ngoc': 0, 'son thuy': 3}\n"
     ]
    }
   ],
   "source": [
    "print(cv.vocabulary_)"
   ]
  },
  {
   "cell_type": "code",
   "execution_count": 22,
   "id": "1737f0e6",
   "metadata": {},
   "outputs": [
    {
     "name": "stdout",
     "output_type": "stream",
     "text": [
      "[[0 1 1 0 0 0 0 1 0]]\n",
      "[[0 2 0 0 1 0 0 1 0]]\n"
     ]
    }
   ],
   "source": [
    "print(bow[0].toarray())\n",
    "print(bow[1].toarray())"
   ]
  },
  {
   "cell_type": "code",
   "execution_count": 23,
   "id": "3b03cdff",
   "metadata": {},
   "outputs": [],
   "source": [
    "from sklearn.feature_extraction.text import CountVectorizer\n",
    "cv = CountVectorizer(ngram_range=(3, 3))"
   ]
  },
  {
   "cell_type": "code",
   "execution_count": 24,
   "id": "fade35bc",
   "metadata": {},
   "outputs": [],
   "source": [
    "bow = cv.fit_transform(df['text'])"
   ]
  },
  {
   "cell_type": "code",
   "execution_count": 25,
   "id": "cc913db1",
   "metadata": {},
   "outputs": [
    {
     "name": "stdout",
     "output_type": "stream",
     "text": [
      "{'people watch ngoc': 3, 'watch ngoc son': 9, 'ngoc son watch': 2, 'son watch ngoc': 5, 'thuy tien watch': 7, 'tien watch ngoc': 8, 'son watch thuy': 6, 'watch thuy tien': 10, 'hello ngoc son': 0, 'ngoc son thuy': 1, 'son thuy tien': 4}\n"
     ]
    }
   ],
   "source": [
    "print(cv.vocabulary_)"
   ]
  },
  {
   "cell_type": "markdown",
   "id": "a91442fc",
   "metadata": {},
   "source": [
    "<h1>TF-IDF(Term frequency-Inverse document frequency)</h1>"
   ]
  },
  {
   "cell_type": "code",
   "execution_count": 26,
   "id": "81033bcf",
   "metadata": {},
   "outputs": [
    {
     "data": {
      "text/html": [
       "<div>\n",
       "<style scoped>\n",
       "    .dataframe tbody tr th:only-of-type {\n",
       "        vertical-align: middle;\n",
       "    }\n",
       "\n",
       "    .dataframe tbody tr th {\n",
       "        vertical-align: top;\n",
       "    }\n",
       "\n",
       "    .dataframe thead th {\n",
       "        text-align: right;\n",
       "    }\n",
       "</style>\n",
       "<table border=\"1\" class=\"dataframe\">\n",
       "  <thead>\n",
       "    <tr style=\"text-align: right;\">\n",
       "      <th></th>\n",
       "      <th>text</th>\n",
       "      <th>output</th>\n",
       "    </tr>\n",
       "  </thead>\n",
       "  <tbody>\n",
       "    <tr>\n",
       "      <th>0</th>\n",
       "      <td>People watch Ngoc Son</td>\n",
       "      <td>1</td>\n",
       "    </tr>\n",
       "    <tr>\n",
       "      <th>1</th>\n",
       "      <td>Ngoc Son watch Ngoc Son</td>\n",
       "      <td>1</td>\n",
       "    </tr>\n",
       "    <tr>\n",
       "      <th>2</th>\n",
       "      <td>Thuy tien watch Ngoc Son</td>\n",
       "      <td>0</td>\n",
       "    </tr>\n",
       "    <tr>\n",
       "      <th>3</th>\n",
       "      <td>Ngoc Son watch Thuy Tien</td>\n",
       "      <td>0</td>\n",
       "    </tr>\n",
       "    <tr>\n",
       "      <th>4</th>\n",
       "      <td>Hello Ngoc Son Thuy Tien</td>\n",
       "      <td>0</td>\n",
       "    </tr>\n",
       "  </tbody>\n",
       "</table>\n",
       "</div>"
      ],
      "text/plain": [
       "                       text  output\n",
       "0     People watch Ngoc Son       1\n",
       "1   Ngoc Son watch Ngoc Son       1\n",
       "2  Thuy tien watch Ngoc Son       0\n",
       "3  Ngoc Son watch Thuy Tien       0\n",
       "4  Hello Ngoc Son Thuy Tien       0"
      ]
     },
     "execution_count": 26,
     "metadata": {},
     "output_type": "execute_result"
    }
   ],
   "source": [
    "df = pd.DataFrame({\"text\": [\"People watch Ngoc Son\",\n",
    "                            \"Ngoc Son watch Ngoc Son\",\n",
    "                            \"Thuy tien watch Ngoc Son\",\n",
    "                            \"Ngoc Son watch Thuy Tien\",\n",
    "                            \"Hello Ngoc Son Thuy Tien\"], \"output\":[1, 1, 0, 0, 0]})\n",
    "\n",
    "df"
   ]
  },
  {
   "cell_type": "code",
   "execution_count": 27,
   "id": "9fd5afd1",
   "metadata": {},
   "outputs": [],
   "source": [
    "from sklearn.feature_extraction.text import TfidfVectorizer\n",
    "tfid = TfidfVectorizer()\n",
    "\n",
    "arr = tfid.fit_transform(df['text']).toarray()"
   ]
  },
  {
   "cell_type": "code",
   "execution_count": 28,
   "id": "496eb380",
   "metadata": {},
   "outputs": [
    {
     "data": {
      "text/plain": [
       "array([[0.        , 0.35801021, 0.75132464, 0.35801021, 0.        ,\n",
       "        0.        , 0.42328319],\n",
       "       [0.        , 0.6524015 , 0.        , 0.6524015 , 0.        ,\n",
       "        0.        , 0.38567418],\n",
       "       [0.        , 0.36889198, 0.        , 0.36889198, 0.51846481,\n",
       "        0.51846481, 0.43614894],\n",
       "       [0.        , 0.36889198, 0.        , 0.36889198, 0.51846481,\n",
       "        0.51846481, 0.43614894],\n",
       "       [0.65216961, 0.31076232, 0.        , 0.31076232, 0.43676559,\n",
       "        0.43676559, 0.        ]])"
      ]
     },
     "execution_count": 28,
     "metadata": {},
     "output_type": "execute_result"
    }
   ],
   "source": [
    "arr"
   ]
  },
  {
   "cell_type": "code",
   "execution_count": 29,
   "id": "c92bfc99",
   "metadata": {},
   "outputs": [
    {
     "name": "stdout",
     "output_type": "stream",
     "text": [
      "[2.09861229 1.         2.09861229 1.         1.40546511 1.40546511\n",
      " 1.18232156]\n"
     ]
    }
   ],
   "source": [
    "print(tfid.idf_)"
   ]
  }
 ],
 "metadata": {
  "kernelspec": {
   "display_name": "myenv",
   "language": "python",
   "name": "python3"
  },
  "language_info": {
   "codemirror_mode": {
    "name": "ipython",
    "version": 3
   },
   "file_extension": ".py",
   "mimetype": "text/x-python",
   "name": "python",
   "nbconvert_exporter": "python",
   "pygments_lexer": "ipython3",
   "version": "3.12.9"
  }
 },
 "nbformat": 4,
 "nbformat_minor": 5
}
