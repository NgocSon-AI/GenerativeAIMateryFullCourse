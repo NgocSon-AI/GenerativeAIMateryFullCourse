{
 "cells": [
  {
   "cell_type": "markdown",
   "id": "9c37b5ed",
   "metadata": {},
   "source": [
    "<h1>Introduction Of Hugging Face</h1>"
   ]
  },
  {
   "cell_type": "markdown",
   "id": "a42f45b9",
   "metadata": {},
   "source": [
    "🧠 Hugging Face là gì?\n",
    "\n",
    "- Hugging Face là một công ty công nghệ của Pháp-Mỹ cung cấp nền tảng mã nguồn mở và các công cụ để phát triển, chia sẻ và triển khai các mô hình học máy, đặc biệt là mô hình NLP, LLM, thị giác máy tính, âm thanh, v.v.\n",
    "\n",
    "- Ban đầu được biết đến với mô hình chatbot, Hugging Face sau đó trở nên nổi tiếng nhờ ra mắt thư viện Transformers, hiện là một tiêu chuẩn toàn cầu trong cộng đồng nghiên cứu và phát triển AI."
   ]
  },
  {
   "cell_type": "markdown",
   "id": "3cfb076d",
   "metadata": {},
   "source": [
    "<h3>🔧 Các thành phần chính của Hugging Face</h3>"
   ]
  },
  {
   "cell_type": "markdown",
   "id": "129df0a2",
   "metadata": {},
   "source": [
    "<h3>1. Transformers Library</h3>\n",
    "\n",
    "- Thư viện mã nguồn mở rất phổ biến, cung cấp hàng nghìn mô hình pretrained như:\n",
    "\n",
    "    - BERT, GPT-2, GPT-Neo, RoBERTa, T5, BART,...\n",
    "\n",
    "- Dễ dàng sử dụng để fine-tune, inference, hoặc huấn luyện từ đầu.\n",
    "\n",
    "- Hỗ trợ cả PyTorch và TensorFlow."
   ]
  },
  {
   "cell_type": "markdown",
   "id": "73eee4bc",
   "metadata": {},
   "source": [
    "<h3>2. 🤗 Hub (Model Hub)</h3>\n",
    "\n",
    "- Là nơi chia sẻ và tải mô hình học máy.\n",
    "\n",
    "- Có hàng trăm ngàn mô hình AI do cộng đồng và các công ty lớn đóng góp.\n",
    "\n",
    "- Mô hình được phân loại theo nhiệm vụ như: dịch máy, tổng hợp văn bản, phân loại văn bản, phân tích cảm xúc, v.v."
   ]
  },
  {
   "cell_type": "markdown",
   "id": "72aec731",
   "metadata": {},
   "source": [
    "<h3>3. Datasets</h3>\n",
    "\n",
    "- Một kho lưu trữ tập dữ liệu mã nguồn mở, giúp bạn dễ dàng tải và xử lý các tập dữ liệu phổ biến như:\n",
    "\n",
    "    - IMDB, SQuAD, Common Crawl, WikiText,...\n",
    "\n",
    "- Hỗ trợ xử lý hiệu quả với thư viện datasets."
   ]
  },
  {
   "cell_type": "markdown",
   "id": "1bfdf0eb",
   "metadata": {},
   "source": [
    "<h3>4. Spaces</h3>\n",
    "\n",
    "- Nền tảng để bạn triển khai ứng dụng AI trực tiếp trên web (dùng Gradio hoặc Streamlit).\n",
    "\n",
    "- Miễn phí với mô hình nhẹ – lý tưởng để demo ý tưởng hoặc sản phẩm AI."
   ]
  },
  {
   "cell_type": "markdown",
   "id": "dc7fdcb7",
   "metadata": {},
   "source": [
    "<h3>5. AutoTrain</h3>\n",
    "\n",
    "- Dịch vụ giúp người dùng train mô hình AI tự động, không cần viết code phức tạp.\n",
    "\n",
    "- Hữu ích cho người mới hoặc các bài toán prototype nhanh."
   ]
  },
  {
   "cell_type": "markdown",
   "id": "38a82ecf",
   "metadata": {},
   "source": [
    "<h2>🌐 Ứng dụng thực tế </h2>\n",
    "\n",
    "- Hugging Face được dùng bởi hàng nghìn công ty và tổ chức như Google, Microsoft, Meta, Intel, Amazon.\n",
    "\n",
    "- Được ứng dụng trong:\n",
    "\n",
    "- Chatbot thông minh\n",
    "\n",
    "- Tóm tắt văn bản tự động\n",
    "\n",
    "- Dịch thuật AI\n",
    "\n",
    "- Tìm kiếm thông minh\n",
    "\n",
    "- Phân tích cảm xúc khách hàng\n",
    "\n",
    "- Nhận diện hình ảnh, âm thanh…"
   ]
  }
 ],
 "metadata": {
  "language_info": {
   "name": "python"
  }
 },
 "nbformat": 4,
 "nbformat_minor": 5
}
