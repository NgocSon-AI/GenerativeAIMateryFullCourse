{
 "cells": [
  {
   "cell_type": "markdown",
   "id": "07269f40",
   "metadata": {},
   "source": [
    "<h1>How Chat GPT is trained?</h1>"
   ]
  },
  {
   "cell_type": "markdown",
   "id": "89e38c0a",
   "metadata": {},
   "source": [
    "Internally using LLM which is gpt-3.5 or gpt-4\n",
    "It has trained on a large amount of data which is avaliable all over the internet\n",
    "\n",
    "ChatGPT không phải là một mô hình AI riêng biệt, mà là một ứng dụng (ứng dụng web/chatbot) sử dụng các mô hình ngôn ngữ lớn (LLMs) do OpenAI phát triển như GPT-3.5 và GPT-4."
   ]
  },
  {
   "cell_type": "markdown",
   "id": "370adafe",
   "metadata": {},
   "source": [
    "🧠 1. GPT-3.5, GPT-4 là gì?\n",
    "- Đây là các mô hình ngôn ngữ lớn (LLMs), thuộc kiến trúc GPT (Generative Pre-trained Transformer), được huấn luyện bởi OpenAI.\n",
    "\n",
    "- Chúng là những mô hình cốt lõi, thực hiện việc sinh văn bản, trả lời câu hỏi, viết code, v.v.\n",
    "\n",
    "- Chúng không có giao diện người dùng, chỉ hoạt động khi được gọi thông qua API hoặc được tích hợp trong một ứng dụng."
   ]
  },
  {
   "cell_type": "markdown",
   "id": "6e1dd2d7",
   "metadata": {},
   "source": [
    "💬 2. ChatGPT là gì?\n",
    "- ChatGPT là một ứng dụng giao diện người dùng (UI) do OpenAI xây dựng.\n",
    "\n",
    "- Khi người dùng nhập prompt (câu hỏi, yêu cầu), ChatGPT sẽ:\n",
    "\n",
    "- Gửi prompt đó tới một mô hình GPT phía sau (GPT-3.5 hoặc GPT-4).\n",
    "\n",
    "- Nhận kết quả đầu ra từ mô hình.\n",
    "\n",
    "- Hiển thị kết quả đó trên giao diện chat.\n",
    "\n",
    "➡️ Về mặt kỹ thuật, ChatGPT đóng vai trò như một lớp ứng dụng và tích hợp cho các mô hình GPT."
   ]
  },
  {
   "cell_type": "markdown",
   "id": "847734ed",
   "metadata": {},
   "source": [
    "🔐 3. API key là gì?\n",
    "- Khi bạn xây dựng ứng dụng riêng (như chatbot, app hỗ trợ học tập, v.v.) và muốn dùng GPT-3.5 hoặc GPT-4, bạn sẽ sử dụng OpenAI API Key để gọi các mô hình này.\n",
    "\n",
    "- Tức là: bạn không cần xây lại mô hình GPT từ đầu — bạn dùng API để gọi mô hình có sẵn trên cloud của OpenAI."
   ]
  },
  {
   "cell_type": "markdown",
   "id": "3335defc",
   "metadata": {},
   "source": [
    "<h3>1. Generative pre-training.</h3>"
   ]
  },
  {
   "cell_type": "markdown",
   "id": "8bc2c846",
   "metadata": {},
   "source": [
    "1. Huấn luyện ban đầu (Pretraining)\n",
    "\n",
    "- GPT (Generative Pre-trained Transformer) được huấn luyện trước trên một lượng dữ liệu văn bản khổng lồ bao gồm sách, trang web, bài viết, mã lập trình, v.v.\n",
    "\n",
    "- Mục tiêu chính là: Dự đoán từ tiếp theo trong một câu.\n",
    "\n",
    "- Giai đoạn này không có dữ liệu gán nhãn của con người, mà mô hình tự học các mẫu ngôn ngữ, ngữ pháp, kiến thức và cách lập luận từ dữ liệu thô.\n",
    "\n",
    "- Kết quả là một mô hình ngôn ngữ tổng quát có khả năng hiểu và sinh văn bản."
   ]
  },
  {
   "cell_type": "markdown",
   "id": "b353d97c",
   "metadata": {},
   "source": [
    "<h3>2. Supervised fine-tuning.</h3>"
   ]
  },
  {
   "cell_type": "markdown",
   "id": "47d7c66c",
   "metadata": {},
   "source": [
    "2. Huấn luyện có giám sát (Supervised Fine-Tuning)\n",
    "\n",
    "- Các huấn luyện viên AI (con người) đã cung cấp cho mô hình một tập dữ liệu gồm các ví dụ về câu hỏi (prompt) và phản hồi mẫu mà mô hình nên đưa ra.\n",
    "\n",
    "- Giai đoạn này giúp mô hình học cách trả lời rõ ràng, hữu ích, phù hợp với yêu cầu người dùng, và tránh những nội dung độc hại.\n",
    "\n",
    "- Đây là bước tinh chỉnh để mô hình phù hợp hơn với vai trò \"trợ lý hội thoại\"."
   ]
  },
  {
   "cell_type": "markdown",
   "id": "49edb8b4",
   "metadata": {},
   "source": [
    "<h3>3. Reinforcement learning.</h3>"
   ]
  },
  {
   "cell_type": "markdown",
   "id": "369cbb23",
   "metadata": {},
   "source": [
    "3. Học tăng cường từ phản hồi của con người (RLHF – Reinforcement Learning from Human Feedback)\n",
    "\n",
    "- Con người sẽ xếp hạng nhiều câu trả lời mà mô hình tạo ra cho cùng một câu hỏi.\n",
    "\n",
    "- Dựa vào các xếp hạng đó, một mô hình phần thưởng (reward model) được huấn luyện để đánh giá chất lượng câu trả lời.\n",
    "\n",
    "- Sau đó, dùng kỹ thuật học tăng cường (cụ thể là Proximal Policy Optimization – PPO) để tối ưu hóa mô hình sao cho ưu tiên sinh ra những phản hồi tốt hơn."
   ]
  }
 ],
 "metadata": {
  "language_info": {
   "name": "python"
  }
 },
 "nbformat": 4,
 "nbformat_minor": 5
}
