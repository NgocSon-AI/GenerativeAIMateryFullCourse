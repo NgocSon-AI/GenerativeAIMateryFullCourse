{
 "cells": [
  {
   "cell_type": "markdown",
   "id": "b86df243",
   "metadata": {},
   "source": [
    "<h1>HuggingFace demo</h1>"
   ]
  },
  {
   "cell_type": "code",
   "execution_count": 1,
   "id": "99264763",
   "metadata": {},
   "outputs": [
    {
     "name": "stdout",
     "output_type": "stream",
     "text": [
      "Thu May  1 10:51:13 2025       \n",
      "+-----------------------------------------------------------------------------------------+\n",
      "| NVIDIA-SMI 550.120                Driver Version: 550.120        CUDA Version: 12.4     |\n",
      "|-----------------------------------------+------------------------+----------------------+\n",
      "| GPU  Name                 Persistence-M | Bus-Id          Disp.A | Volatile Uncorr. ECC |\n",
      "| Fan  Temp   Perf          Pwr:Usage/Cap |           Memory-Usage | GPU-Util  Compute M. |\n",
      "|                                         |                        |               MIG M. |\n",
      "|=========================================+========================+======================|\n",
      "|   0  NVIDIA GeForce 940MX           Off |   00000000:01:00.0 Off |                  N/A |\n",
      "| N/A   48C    P8             N/A /  200W |       5MiB /   4096MiB |      0%      Default |\n",
      "|                                         |                        |                  N/A |\n",
      "+-----------------------------------------+------------------------+----------------------+\n",
      "                                                                                         \n",
      "+-----------------------------------------------------------------------------------------+\n",
      "| Processes:                                                                              |\n",
      "|  GPU   GI   CI        PID   Type   Process name                              GPU Memory |\n",
      "|        ID   ID                                                               Usage      |\n",
      "|=========================================================================================|\n",
      "|    0   N/A  N/A      2642      G   /usr/lib/xorg/Xorg                              2MiB |\n",
      "+-----------------------------------------------------------------------------------------+\n"
     ]
    }
   ],
   "source": [
    "! nvidia-smi"
   ]
  },
  {
   "cell_type": "code",
   "execution_count": 2,
   "id": "89591e26",
   "metadata": {},
   "outputs": [
    {
     "name": "stdout",
     "output_type": "stream",
     "text": [
      "Requirement already satisfied: transformers in /home/ngocson/anaconda3/envs/myenv/lib/python3.12/site-packages (4.39.3)\n",
      "Requirement already satisfied: filelock in /home/ngocson/anaconda3/envs/myenv/lib/python3.12/site-packages (from transformers) (3.13.1)\n",
      "Requirement already satisfied: huggingface-hub<1.0,>=0.19.3 in /home/ngocson/anaconda3/envs/myenv/lib/python3.12/site-packages (from transformers) (0.22.2)\n",
      "Requirement already satisfied: numpy>=1.17 in /home/ngocson/anaconda3/envs/myenv/lib/python3.12/site-packages (from transformers) (1.26.4)\n",
      "Requirement already satisfied: packaging>=20.0 in /home/ngocson/anaconda3/envs/myenv/lib/python3.12/site-packages (from transformers) (23.2)\n",
      "Requirement already satisfied: pyyaml>=5.1 in /home/ngocson/anaconda3/envs/myenv/lib/python3.12/site-packages (from transformers) (6.0.2)\n",
      "Requirement already satisfied: regex!=2019.12.17 in /home/ngocson/anaconda3/envs/myenv/lib/python3.12/site-packages (from transformers) (2024.11.6)\n",
      "Requirement already satisfied: requests in /home/ngocson/anaconda3/envs/myenv/lib/python3.12/site-packages (from transformers) (2.32.3)\n",
      "Requirement already satisfied: tokenizers<0.19,>=0.14 in /home/ngocson/anaconda3/envs/myenv/lib/python3.12/site-packages (from transformers) (0.15.2)\n",
      "Requirement already satisfied: safetensors>=0.4.1 in /home/ngocson/anaconda3/envs/myenv/lib/python3.12/site-packages (from transformers) (0.5.3)\n",
      "Requirement already satisfied: tqdm>=4.27 in /home/ngocson/anaconda3/envs/myenv/lib/python3.12/site-packages (from transformers) (4.67.1)\n",
      "Requirement already satisfied: fsspec>=2023.5.0 in /home/ngocson/anaconda3/envs/myenv/lib/python3.12/site-packages (from huggingface-hub<1.0,>=0.19.3->transformers) (2024.6.1)\n",
      "Requirement already satisfied: typing-extensions>=3.7.4.3 in /home/ngocson/anaconda3/envs/myenv/lib/python3.12/site-packages (from huggingface-hub<1.0,>=0.19.3->transformers) (4.13.2)\n",
      "Requirement already satisfied: charset-normalizer<4,>=2 in /home/ngocson/anaconda3/envs/myenv/lib/python3.12/site-packages (from requests->transformers) (3.4.1)\n",
      "Requirement already satisfied: idna<4,>=2.5 in /home/ngocson/anaconda3/envs/myenv/lib/python3.12/site-packages (from requests->transformers) (3.10)\n",
      "Requirement already satisfied: urllib3<3,>=1.21.1 in /home/ngocson/anaconda3/envs/myenv/lib/python3.12/site-packages (from requests->transformers) (2.4.0)\n",
      "Requirement already satisfied: certifi>=2017.4.17 in /home/ngocson/anaconda3/envs/myenv/lib/python3.12/site-packages (from requests->transformers) (2025.1.31)\n"
     ]
    }
   ],
   "source": [
    "! pip install transformers"
   ]
  },
  {
   "cell_type": "code",
   "execution_count": 3,
   "id": "a88198f4",
   "metadata": {},
   "outputs": [],
   "source": [
    "import torch"
   ]
  },
  {
   "cell_type": "markdown",
   "id": "bec4c4ec",
   "metadata": {},
   "source": [
    "<h1>Hugging Face Tasks</h1>"
   ]
  },
  {
   "cell_type": "markdown",
   "id": "d3920b24",
   "metadata": {},
   "source": [
    "<h3>I. NLP Tasks</h3>"
   ]
  },
  {
   "cell_type": "code",
   "execution_count": 4,
   "id": "cc3e2cf3",
   "metadata": {},
   "outputs": [],
   "source": [
    "from transformers import pipeline"
   ]
  },
  {
   "cell_type": "code",
   "execution_count": null,
   "id": "bb187f2c",
   "metadata": {},
   "outputs": [],
   "source": [
    "\"\"\"\n",
    "1. Text Classification: Assign a catergory to a piece of text.\n",
    "Sentiment Analysis\n",
    "Topic Classification\n",
    "\"\"\"\n",
    "\n",
    "classifier = pipeline('text-classification')\n",
    "\n",
    "\"\"\"\n",
    "2. Token Classification: Assigning labels to individual tokens in a sequence.\n",
    "Named Entity Recognition (NER)\n",
    "Part-of-Speech Tagging\n",
    "\"\"\"\n",
    "token_classifier = pipeline('token-classification')\n",
    "\n",
    "\"\"\"\n",
    "3. Question Answering: Extracting an answer from a given context based on a question\n",
    "\"\"\"\n",
    "question_answerer = pipeline('question-answering')\n",
    "\n",
    "\"\"\"\n",
    "4. Text Generation: Generating text based on a given prompt.\n",
    "Language Modeling\n",
    "Story Generation\n",
    "\"\"\"\n",
    "text_generator = pipeline('text-generation')\n",
    "\n",
    "\"\"\"\n",
    "5. Summarization: Condensing long documents into shorter summaries\n",
    "\"\"\"\n",
    "summarier = pipeline(\"summarization\")\n",
    "\n",
    "\"\"\"\n",
    "6. Translation: Translating text from one language to another.\n",
    "\"\"\"\n",
    "text2text_generator = pipeline('text2text-generation')\n",
    "\n",
    "\"\"\"\n",
    "7. Fill-Mask: Predicting the masked token in a sequence\n",
    "\"\"\"\n",
    "fill_mask = pipeline('fill-mask')\n",
    "\n",
    "\"\"\"\n",
    "8. Feature Extraction: Extracting hidden states of features from text.\n",
    "\"\"\"\n",
    "feature_extractor = pipeline('feature_extraction')\n",
    "\n",
    "\"\"\"\n",
    "9. Sentence Similarity: Measuring the similarity between two sentences\n",
    "\"\"\"\n",
    "sentence_similarity = pipeline('sentence-similarity')"
   ]
  },
  {
   "cell_type": "markdown",
   "id": "e88c7bb4",
   "metadata": {},
   "source": [
    "<h3>II. Computer Vision Tasks</h3>"
   ]
  },
  {
   "cell_type": "code",
   "execution_count": null,
   "id": "31e9094f",
   "metadata": {},
   "outputs": [],
   "source": [
    "\"\"\"\n",
    "1. Image Classification: Classifying the main content of an image.\n",
    "\"\"\"\n",
    "image_classifier = pipeline('image-classification')\n",
    "\n",
    "\"\"\"\n",
    "2. Object Detection: Identifying objects within an image and their bounding boxes.\n",
    "\"\"\"\n",
    "object_detector = pipeline('object-detection')\n",
    "\n",
    "\"\"\"\n",
    "3. Image Segmentation: Sementing different parts of an image into classes.\n",
    "\"\"\"\n",
    "image_segmenter = pipeline('image-segmentation')\n",
    "\n",
    "\"\"\"\n",
    "4. Image Generation: Generating images from textual descriptions (using DALL-E or similar models).\n",
    "\"\"\""
   ]
  },
  {
   "cell_type": "markdown",
   "id": "e7e46c1d",
   "metadata": {},
   "source": [
    "<h3>III. Speech Processing TASKS</h3>"
   ]
  },
  {
   "cell_type": "code",
   "execution_count": null,
   "id": "7833b9a6",
   "metadata": {},
   "outputs": [],
   "source": [
    "\"\"\"\n",
    "1. Utomatic Speech Recognition (ASR): Convering spoken language into text.\n",
    "\"\"\"\n",
    "speech_recognizer = pipeline(\"automatic-speech-recognition\")\n",
    "\"\"\"\n",
    "2. Speech Translation: Translationg spoken language from one language to another.\n",
    "3. Audio Classification: Classifying audio signals into predefined catergories.\n",
    "\"\"\""
   ]
  },
  {
   "cell_type": "markdown",
   "id": "67bf0455",
   "metadata": {},
   "source": [
    "<h3>IV. Multimodal TASKS</h3>"
   ]
  },
  {
   "cell_type": "code",
   "execution_count": null,
   "id": "71150bcb",
   "metadata": {},
   "outputs": [],
   "source": [
    "\"\"\"\n",
    "1. Image Captioning: Generating a textual description of an image.\n",
    "\"\"\"\n",
    "image_captioner = pipeline('image-to-text')\n",
    "\n",
    "\"\"\"\n",
    "2. Visual Question Answering (VQA): Answering questions about the content of an image.\n",
    "\"\"\""
   ]
  },
  {
   "cell_type": "markdown",
   "id": "32c3ea62",
   "metadata": {},
   "source": [
    "<h3>V. Other TASKS</h3>"
   ]
  },
  {
   "cell_type": "code",
   "execution_count": null,
   "id": "62a34d68",
   "metadata": {},
   "outputs": [],
   "source": [
    "\"\"\"\n",
    "1. Table Question Answering: Answering questions based on tabular data.\n",
    "\"\"\"\n",
    "table_qa = pipeline(\"table-question-answering\")\n",
    "\n",
    "\"\"\"\n",
    "2. Document Question Answering: Extracting answers from documents like PDFs.\n",
    "\"\"\"\n",
    "doc_qa = pipeline(\"document-question-answring\")\n",
    "\n",
    "\"\"\"\n",
    "3. Time Series Forecasting: Predicting futures values in time series data(not directly supported in the main)\n",
    "\"\"\""
   ]
  },
  {
   "cell_type": "markdown",
   "id": "65c4acda",
   "metadata": {},
   "source": [
    "<h3>NLP Tasks</h3>\n",
    "1. Sentiment Analysis"
   ]
  },
  {
   "cell_type": "code",
   "execution_count": 1,
   "id": "3a19b06a",
   "metadata": {},
   "outputs": [
    {
     "name": "stderr",
     "output_type": "stream",
     "text": [
      "No model was supplied, defaulted to distilbert/distilbert-base-uncased-finetuned-sst-2-english and revision af0f99b (https://huggingface.co/distilbert/distilbert-base-uncased-finetuned-sst-2-english).\n",
      "Using a pipeline without specifying a model name and revision in production is not recommended.\n"
     ]
    },
    {
     "name": "stdout",
     "output_type": "stream",
     "text": [
      "[{'label': 'POSITIVE', 'score': 0.9998840093612671}]\n"
     ]
    }
   ],
   "source": [
    "from transformers import pipeline\n",
    "\n",
    "classifier = pipeline('sentiment-analysis')\n",
    "\n",
    "result = classifier('I very very happy with my love')\n",
    "\n",
    "print(result)"
   ]
  },
  {
   "cell_type": "code",
   "execution_count": 2,
   "id": "c773abf1",
   "metadata": {},
   "outputs": [
    {
     "data": {
      "text/plain": [
       "[{'label': 'neutral', 'score': 0.9725003242492676}]"
      ]
     },
     "execution_count": 2,
     "metadata": {},
     "output_type": "execute_result"
    }
   ],
   "source": [
    "pipeline(task=\"sentiment-analysis\", model=\"facebook/bart-large-mnli\")(\"Everyday lots of LLMs papers are publised about LLMs Evaluation. Lots of them Looks very Promising. I am not sure if we can actually evaluate LLMs. There is still lots to do. Don't you think.\")"
   ]
  },
  {
   "cell_type": "code",
   "execution_count": null,
   "id": "bc23a4ac",
   "metadata": {},
   "outputs": [],
   "source": []
  },
  {
   "cell_type": "markdown",
   "id": "745a4512",
   "metadata": {},
   "source": [
    "<h1>Fine tunning IMDB</h1>"
   ]
  },
  {
   "cell_type": "code",
   "execution_count": 7,
   "id": "3c747b21",
   "metadata": {},
   "outputs": [
    {
     "name": "stderr",
     "output_type": "stream",
     "text": [
      "huggingface/tokenizers: The current process just got forked, after parallelism has already been used. Disabling parallelism to avoid deadlocks...\n",
      "To disable this warning, you can either:\n",
      "\t- Avoid using `tokenizers` before the fork if possible\n",
      "\t- Explicitly set the environment variable TOKENIZERS_PARALLELISM=(true | false)\n"
     ]
    },
    {
     "name": "stdout",
     "output_type": "stream",
     "text": [
      "Requirement already satisfied: datasets in /home/ngocson/anaconda3/envs/myenv/lib/python3.12/site-packages (3.5.1)\n",
      "Requirement already satisfied: filelock in /home/ngocson/anaconda3/envs/myenv/lib/python3.12/site-packages (from datasets) (3.13.1)\n",
      "Requirement already satisfied: numpy>=1.17 in /home/ngocson/anaconda3/envs/myenv/lib/python3.12/site-packages (from datasets) (1.26.4)\n",
      "Requirement already satisfied: pyarrow>=15.0.0 in /home/ngocson/anaconda3/envs/myenv/lib/python3.12/site-packages (from datasets) (20.0.0)\n",
      "Requirement already satisfied: dill<0.3.9,>=0.3.0 in /home/ngocson/anaconda3/envs/myenv/lib/python3.12/site-packages (from datasets) (0.3.8)\n",
      "Requirement already satisfied: pandas in /home/ngocson/anaconda3/envs/myenv/lib/python3.12/site-packages (from datasets) (2.2.3)\n",
      "Requirement already satisfied: requests>=2.32.2 in /home/ngocson/anaconda3/envs/myenv/lib/python3.12/site-packages (from datasets) (2.32.3)\n",
      "Requirement already satisfied: tqdm>=4.66.3 in /home/ngocson/anaconda3/envs/myenv/lib/python3.12/site-packages (from datasets) (4.67.1)\n",
      "Requirement already satisfied: xxhash in /home/ngocson/anaconda3/envs/myenv/lib/python3.12/site-packages (from datasets) (3.5.0)\n",
      "Requirement already satisfied: multiprocess<0.70.17 in /home/ngocson/anaconda3/envs/myenv/lib/python3.12/site-packages (from datasets) (0.70.16)\n",
      "Requirement already satisfied: fsspec<=2025.3.0,>=2023.1.0 in /home/ngocson/anaconda3/envs/myenv/lib/python3.12/site-packages (from fsspec[http]<=2025.3.0,>=2023.1.0->datasets) (2024.6.1)\n",
      "Requirement already satisfied: aiohttp in /home/ngocson/anaconda3/envs/myenv/lib/python3.12/site-packages (from datasets) (3.11.16)\n",
      "Requirement already satisfied: huggingface-hub>=0.24.0 in /home/ngocson/anaconda3/envs/myenv/lib/python3.12/site-packages (from datasets) (0.30.2)\n",
      "Requirement already satisfied: packaging in /home/ngocson/anaconda3/envs/myenv/lib/python3.12/site-packages (from datasets) (23.2)\n",
      "Requirement already satisfied: pyyaml>=5.1 in /home/ngocson/anaconda3/envs/myenv/lib/python3.12/site-packages (from datasets) (6.0.2)\n",
      "Requirement already satisfied: aiohappyeyeballs>=2.3.0 in /home/ngocson/anaconda3/envs/myenv/lib/python3.12/site-packages (from aiohttp->datasets) (2.6.1)\n",
      "Requirement already satisfied: aiosignal>=1.1.2 in /home/ngocson/anaconda3/envs/myenv/lib/python3.12/site-packages (from aiohttp->datasets) (1.3.2)\n",
      "Requirement already satisfied: attrs>=17.3.0 in /home/ngocson/anaconda3/envs/myenv/lib/python3.12/site-packages (from aiohttp->datasets) (25.3.0)\n",
      "Requirement already satisfied: frozenlist>=1.1.1 in /home/ngocson/anaconda3/envs/myenv/lib/python3.12/site-packages (from aiohttp->datasets) (1.5.0)\n",
      "Requirement already satisfied: multidict<7.0,>=4.5 in /home/ngocson/anaconda3/envs/myenv/lib/python3.12/site-packages (from aiohttp->datasets) (6.4.3)\n",
      "Requirement already satisfied: propcache>=0.2.0 in /home/ngocson/anaconda3/envs/myenv/lib/python3.12/site-packages (from aiohttp->datasets) (0.3.1)\n",
      "Requirement already satisfied: yarl<2.0,>=1.17.0 in /home/ngocson/anaconda3/envs/myenv/lib/python3.12/site-packages (from aiohttp->datasets) (1.19.0)\n",
      "Requirement already satisfied: typing-extensions>=3.7.4.3 in /home/ngocson/anaconda3/envs/myenv/lib/python3.12/site-packages (from huggingface-hub>=0.24.0->datasets) (4.13.2)\n",
      "Requirement already satisfied: charset-normalizer<4,>=2 in /home/ngocson/anaconda3/envs/myenv/lib/python3.12/site-packages (from requests>=2.32.2->datasets) (3.4.1)\n",
      "Requirement already satisfied: idna<4,>=2.5 in /home/ngocson/anaconda3/envs/myenv/lib/python3.12/site-packages (from requests>=2.32.2->datasets) (3.10)\n",
      "Requirement already satisfied: urllib3<3,>=1.21.1 in /home/ngocson/anaconda3/envs/myenv/lib/python3.12/site-packages (from requests>=2.32.2->datasets) (2.4.0)\n",
      "Requirement already satisfied: certifi>=2017.4.17 in /home/ngocson/anaconda3/envs/myenv/lib/python3.12/site-packages (from requests>=2.32.2->datasets) (2025.1.31)\n",
      "Requirement already satisfied: python-dateutil>=2.8.2 in /home/ngocson/anaconda3/envs/myenv/lib/python3.12/site-packages (from pandas->datasets) (2.9.0.post0)\n",
      "Requirement already satisfied: pytz>=2020.1 in /home/ngocson/anaconda3/envs/myenv/lib/python3.12/site-packages (from pandas->datasets) (2025.2)\n",
      "Requirement already satisfied: tzdata>=2022.7 in /home/ngocson/anaconda3/envs/myenv/lib/python3.12/site-packages (from pandas->datasets) (2025.2)\n",
      "Requirement already satisfied: six>=1.5 in /home/ngocson/anaconda3/envs/myenv/lib/python3.12/site-packages (from python-dateutil>=2.8.2->pandas->datasets) (1.17.0)\n"
     ]
    }
   ],
   "source": [
    "! pip install datasets"
   ]
  },
  {
   "cell_type": "code",
   "execution_count": null,
   "id": "87c3f6cf",
   "metadata": {},
   "outputs": [],
   "source": []
  },
  {
   "cell_type": "code",
   "execution_count": 1,
   "id": "028e350c",
   "metadata": {},
   "outputs": [
    {
     "name": "stderr",
     "output_type": "stream",
     "text": [
      "/home/ngocson/anaconda3/envs/myenv/lib/python3.12/site-packages/tqdm/auto.py:21: TqdmWarning: IProgress not found. Please update jupyter and ipywidgets. See https://ipywidgets.readthedocs.io/en/stable/user_install.html\n",
      "  from .autonotebook import tqdm as notebook_tqdm\n",
      "Generating train split: 100%|██████████| 25000/25000 [00:00<00:00, 187257.42 examples/s]\n",
      "Generating test split: 100%|██████████| 25000/25000 [00:00<00:00, 188776.83 examples/s]\n",
      "Generating unsupervised split: 100%|██████████| 50000/50000 [00:00<00:00, 185854.46 examples/s]\n"
     ]
    }
   ],
   "source": [
    "from datasets import load_dataset\n",
    "dataset = load_dataset('imdb')"
   ]
  },
  {
   "cell_type": "code",
   "execution_count": 3,
   "id": "c3675126",
   "metadata": {},
   "outputs": [
    {
     "data": {
      "text/plain": [
       "DatasetDict({\n",
       "    train: Dataset({\n",
       "        features: ['text', 'label'],\n",
       "        num_rows: 25000\n",
       "    })\n",
       "    test: Dataset({\n",
       "        features: ['text', 'label'],\n",
       "        num_rows: 25000\n",
       "    })\n",
       "    unsupervised: Dataset({\n",
       "        features: ['text', 'label'],\n",
       "        num_rows: 50000\n",
       "    })\n",
       "})"
      ]
     },
     "execution_count": 3,
     "metadata": {},
     "output_type": "execute_result"
    }
   ],
   "source": [
    "dataset"
   ]
  },
  {
   "cell_type": "markdown",
   "id": "e5ae0bc7",
   "metadata": {},
   "source": [
    "<h4>Preprocess Data</h4>"
   ]
  },
  {
   "cell_type": "code",
   "execution_count": 4,
   "id": "3b44e9a8",
   "metadata": {},
   "outputs": [
    {
     "name": "stderr",
     "output_type": "stream",
     "text": [
      "/home/ngocson/anaconda3/envs/myenv/lib/python3.12/site-packages/huggingface_hub/file_download.py:896: FutureWarning: `resume_download` is deprecated and will be removed in version 1.0.0. Downloads always resume when possible. If you want to force a new download, use `force_download=True`.\n",
      "  warnings.warn(\n"
     ]
    }
   ],
   "source": [
    "from transformers import AutoTokenizer\n",
    "\n",
    "tokenizer = AutoTokenizer.from_pretrained('bert-base-uncased')"
   ]
  },
  {
   "cell_type": "code",
   "execution_count": 5,
   "id": "2295ccca",
   "metadata": {},
   "outputs": [
    {
     "name": "stderr",
     "output_type": "stream",
     "text": [
      "Map: 100%|██████████| 25000/25000 [00:17<00:00, 1441.96 examples/s]\n",
      "Map: 100%|██████████| 25000/25000 [00:15<00:00, 1651.60 examples/s]\n",
      "Map: 100%|██████████| 50000/50000 [00:34<00:00, 1457.43 examples/s]\n"
     ]
    }
   ],
   "source": [
    "def tokenize_function(examples):\n",
    "    return tokenizer(examples['text'], padding=\"max_length\", truncation=True)\n",
    "\n",
    "tokenized_datasets = dataset.map(tokenize_function, batched=True)"
   ]
  },
  {
   "cell_type": "code",
   "execution_count": 6,
   "id": "db7867ce",
   "metadata": {},
   "outputs": [
    {
     "data": {
      "text/plain": [
       "DatasetDict({\n",
       "    train: Dataset({\n",
       "        features: ['text', 'label', 'input_ids', 'token_type_ids', 'attention_mask'],\n",
       "        num_rows: 25000\n",
       "    })\n",
       "    test: Dataset({\n",
       "        features: ['text', 'label', 'input_ids', 'token_type_ids', 'attention_mask'],\n",
       "        num_rows: 25000\n",
       "    })\n",
       "    unsupervised: Dataset({\n",
       "        features: ['text', 'label', 'input_ids', 'token_type_ids', 'attention_mask'],\n",
       "        num_rows: 50000\n",
       "    })\n",
       "})"
      ]
     },
     "execution_count": 6,
     "metadata": {},
     "output_type": "execute_result"
    }
   ],
   "source": [
    "tokenized_datasets"
   ]
  },
  {
   "cell_type": "code",
   "execution_count": null,
   "id": "6f96104b",
   "metadata": {},
   "outputs": [],
   "source": []
  }
 ],
 "metadata": {
  "kernelspec": {
   "display_name": "myenv",
   "language": "python",
   "name": "python3"
  },
  "language_info": {
   "codemirror_mode": {
    "name": "ipython",
    "version": 3
   },
   "file_extension": ".py",
   "mimetype": "text/x-python",
   "name": "python",
   "nbconvert_exporter": "python",
   "pygments_lexer": "ipython3",
   "version": "3.12.9"
  }
 },
 "nbformat": 4,
 "nbformat_minor": 5
}
