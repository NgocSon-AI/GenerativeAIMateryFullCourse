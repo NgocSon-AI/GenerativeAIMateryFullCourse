{
 "cells": [
  {
   "cell_type": "markdown",
   "id": "c40646e2",
   "metadata": {},
   "source": [
    "<h1>DATA REPRESENTATION</h1>"
   ]
  },
  {
   "cell_type": "markdown",
   "id": "234e7d21",
   "metadata": {},
   "source": [
    "<h3>I. What is feature extraction from text/images?</h3>\n",
    "+ Feature Extraction: Là quá trình chuyển đổi dữ liệu thô (như văn bản hoặc hình ảnh) thành một tập hợp các đặc trưng hoặc tính năng có thể đo lường, giúp các mô hình học máy đưa ra dự đoán hoặc phân loại\n"
   ]
  },
  {
   "cell_type": "markdown",
   "id": "f841ce7b",
   "metadata": {},
   "source": [
    "<h5>Trích xuất đặc trưng từ văn bản (Feature Extraction in Text)</h5>\n",
    "\n",
    "Trong dữ liệu văn bản, mục tiêu là chuyển đổi các từ, câu hoặc tài liệu thành các biểu diễn số có thể sử dụng trong các mô hình học máy. Các kỹ thuật phổ biến để trích xuất đặc trưng từ văn bản bao gồm:"
   ]
  },
  {
   "cell_type": "markdown",
   "id": "63062f0d",
   "metadata": {},
   "source": [
    "1. Bag of Words (BoW)\n",
    "\n",
    "    Mô tả: Mỗi từ trong tài liệu được coi là một đặc trưng. Sự hiện diện hoặc vắng mặt của các từ trong văn bản được ghi lại trong một vector.\n",
    "\n",
    "    Ví dụ: Đối với các tài liệu:\n",
    "\n",
    "    \"I love cats\"\n",
    "\n",
    "    \"I love dogs\"\n",
    "\n",
    "    Vector đặc trưng sẽ là [1, 1, 0, 1] cho một từ vựng như ['I', 'love', 'cats', 'dogs'], trong đó 1 đại diện cho sự xuất hiện của từ."
   ]
  },
  {
   "cell_type": "markdown",
   "id": "ab41a5e1",
   "metadata": {},
   "source": [
    "2. TF-IDF (Term Frequency-Inverse Document Frequency):\n",
    "\n",
    "    Mô tả: Phương pháp này tính toán trọng số của các từ dựa trên mức độ phổ biến hoặc hiếm gặp của chúng trong toàn bộ tài liệu. Các từ xuất hiện nhiều trong một tài liệu nhưng hiếm trong tất cả tài liệu sẽ có điểm số cao hơn.\n",
    "    \n",
    "    Ví dụ: Một từ như \"the\" sẽ có điểm TF-IDF thấp vì nó rất phổ biến trong tất cả các tài liệu, trong khi từ \"quantum\" có thể có điểm cao hơn vì nó hiếm."
   ]
  },
  {
   "cell_type": "markdown",
   "id": "276b912b",
   "metadata": {},
   "source": [
    "3. Word Embeddings (Word2Vec, GloVe, FastText):\n",
    "\n",
    "    Mô tả: Những phương pháp này đại diện cho các từ dưới dạng các vector đặc trưng dày trong không gian vector liên tục, phản ánh các mối quan hệ ngữ nghĩa giữa các từ.\n",
    "\n",
    "    Ví dụ: Các từ \"king\" và \"queen\" sẽ có các vector đặc trưng tương tự, phản ánh sự giống nhau trong ngữ cảnh nhất định."
   ]
  },
  {
   "cell_type": "markdown",
   "id": "488c9fef",
   "metadata": {},
   "source": [
    "4. N-grams:\n",
    "\n",
    "    Mô tả: Phương pháp này xem xét các chuỗi liên tiếp của \"n\" từ. Ví dụ, đối với câu \"I love cats,\" các bigram sẽ là ['I love', 'love cats'].\n",
    "\n",
    "    Sử dụng: Phương pháp này có thể giúp nhận diện các sự phụ thuộc từ ngữ trong phạm vi cục bộ."
   ]
  },
  {
   "cell_type": "markdown",
   "id": "0fcd46c2",
   "metadata": {},
   "source": [
    "<h5>Trích xuất đặc trưng từ hình ảnh (Feature Extraction in Image)</h5>\n",
    "\n",
    "Trong dữ liệu hình ảnh, mục tiêu là trích xuất các mẫu hình học (như hình dạng, màu sắc, kết cấu) phản ánh nội dung của hình ảnh. Các kỹ thuật phổ biến để trích xuất đặc trưng từ hình ảnh bao gồm:"
   ]
  },
  {
   "cell_type": "markdown",
   "id": "d395de7b",
   "metadata": {},
   "source": [
    "1. Phát hiện biên (Edge Detection) (Ví dụ: Sobel, Canny):\n",
    "\n",
    "    Mô tả: Phát hiện các biên trong hình ảnh bằng cách phát hiện các thay đổi đột ngột trong độ sáng của pixel.\n",
    "\n",
    "    Sử dụng: Thường được sử dụng để phát hiện các ranh giới của các đối tượng trong hình ảnh.\n",
    "\n",
    "    Ví dụ: Trích xuất các biên để phát hiện các hình dạng như hình tròn hoặc hình chữ nhật trong hình ảnh của một con mèo."
   ]
  },
  {
   "cell_type": "markdown",
   "id": "0ce2b24c",
   "metadata": {},
   "source": [
    "2. Histogram of Oriented Gradients (HOG):\n",
    "\n",
    "    Mô tả: Trích xuất phân bố của các hướng gradient (biên) trong các phần nhỏ của hình ảnh.\n",
    "\n",
    "    Sử dụng: Được sử dụng rộng rãi trong phát hiện đối tượng, đặc biệt là phát hiện người.\n",
    "\n",
    "    Ví dụ: Phát hiện người đi bộ trong hình ảnh."
   ]
  },
  {
   "cell_type": "markdown",
   "id": "f85d0230",
   "metadata": {},
   "source": [
    "3. SIFT (Scale-Invariant Feature Transform) / SURF (Speeded Up Robust Features):\n",
    "\n",
    "    Mô tả: Phát hiện các điểm mấu chốt và mô tả chúng sao cho không thay đổi khi thay đổi tỷ lệ, xoay và một số biến dạng.\n",
    "\n",
    "    Sử dụng: Dùng để khớp các đặc trưng giữa các hình ảnh, nhận diện đối tượng từ các góc nhìn khác nhau.\n",
    "\n",
    "    Ví dụ: Khớp các điểm mấu chốt giữa hai hình ảnh của cùng một đối tượng chụp từ các góc độ khác nhau."
   ]
  },
  {
   "cell_type": "markdown",
   "id": "68db37a6",
   "metadata": {},
   "source": [
    "4. Mạng nơ-ron tích chập (CNNs):\n",
    "\n",
    "    Mô tả: CNN tự động học các đặc trưng phân cấp (biên, kết cấu, hình dạng, v.v.) từ hình ảnh bằng cách áp dụng các bộ lọc tích chập.\n",
    "\n",
    "    Sử dụng: Có thể dùng để trích xuất đặc trưng trực tiếp từ các pixel thô của hình ảnh.\n",
    "\n",
    "    Ví dụ: Các lớp đầu của CNN có thể phát hiện các biên, trong khi các lớp sau có thể nhận diện các đối tượng phức tạp như khuôn mặt hoặc động vật."
   ]
  },
  {
   "cell_type": "markdown",
   "id": "2cf33dcc",
   "metadata": {},
   "source": [
    "5. Histogram màu sắc:\n",
    "\n",
    "    Mô tả: Một histogram đại diện cho phân bố màu sắc trong hình ảnh.\n",
    "\n",
    "    Sử dụng: Có thể dùng cho phân đoạn hình ảnh hoặc phân loại hình ảnh dựa trên màu sắc.\n",
    "\n",
    "    Ví dụ: Một hình ảnh của quả táo đỏ sẽ có histogram màu khác với hình ảnh của quả táo xanh."
   ]
  },
  {
   "cell_type": "markdown",
   "id": "289085bf",
   "metadata": {},
   "source": [
    "6. Local Binary Patterns (LBP):\n",
    "\n",
    "    Mô tả: Một mô tả kết cấu giúp mô tả các mẫu không gian cục bộ trong hình ảnh.\n",
    "\n",
    "    Sử dụng: Thường dùng trong phân loại kết cấu và nhận diện khuôn mặt.\n",
    "\n",
    "    Ví dụ: Nhận diện kết cấu da trong nhận diện khuôn mặt."
   ]
  },
  {
   "cell_type": "markdown",
   "id": "f6e22c9f",
   "metadata": {},
   "source": [
    "7. Các đặc trưng từ CNN đã được huấn luyện trước (Ví dụ: VGG, ResNet, Inception):\n",
    "\n",
    "    Mô tả: Các CNN đã được huấn luyện trên các bộ dữ liệu lớn (như ImageNet) có thể được sử dụng để trích xuất các vector đặc trưng đại diện cho hình ảnh, và sau đó được sử dụng cho các tác vụ như phân loại hoặc phân cụm.\n",
    "\n",
    "    Sử dụng: Các vector đặc trưng này được sử dụng làm đầu vào cho các mô hình học máy khác (ví dụ: SVM, Random Forest) để phân loại cuối cùng."
   ]
  },
  {
   "cell_type": "markdown",
   "id": "3a719b30",
   "metadata": {},
   "source": [
    "Tóm tắt\n",
    "\n",
    "- Trích xuất đặc trưng từ văn bản tập trung vào việc chuyển đổi dữ liệu văn bản thành các biểu diễn số phản ánh ý nghĩa cơ bản của các từ, câu hoặc tài liệu (ví dụ: BoW, TF-IDF, word embeddings).\n",
    "\n",
    "- Trích xuất đặc trưng từ hình ảnh tập trung vào việc nhận diện và định lượng các mẫu hình học hoặc đặc trưng trong hình ảnh, như biên, kết cấu hoặc đối tượng (ví dụ: phát hiện biên, đặc trưng CNN, HOG).\n",
    "\n",
    "- Trích xuất đặc trưng là một bước quan trọng trong việc chuẩn bị dữ liệu cho các mô hình học máy, vì nó giúp mô hình tập trung vào thông tin có liên quan nhất cho tác vụ cần làm."
   ]
  },
  {
   "cell_type": "markdown",
   "id": "77065b1b",
   "metadata": {},
   "source": [
    "<h3>II. Why we need it?</h3>\n",
    "\n"
   ]
  },
  {
   "cell_type": "markdown",
   "id": "3c531fcf",
   "metadata": {},
   "source": [
    "Trích xuất đặc trưng là cần thiết vì nó:\n",
    "\n",
    "- Chuyển đổi dữ liệu thô thành dạng có cấu trúc mà các mô hình học máy có thể hiểu được.\n",
    "\n",
    "- Đơn giản hóa dữ liệu phức tạp, giúp giảm thiểu độ phức tạp tính toán và cải thiện hiệu quả.\n",
    "\n",
    "- Cải thiện hiệu suất bằng cách tập trung vào các mẫu có liên quan trong dữ liệu.\n",
    "\n",
    "- Giảm overfitting bằng cách lọc bỏ nhiễu và các thông tin không liên quan.\n",
    "\n",
    "- Nâng cao khả năng giải thích mô hình và giúp người dùng hiểu được cách mô hình đưa ra quyết định.\n",
    "\n",
    "Nếu không có trích xuất đặc trưng, các mô hình học máy sẽ gặp khó khăn trong việc xử lý dữ liệu thô, dẫn đến hiệu suất kém và thiếu hiệu quả."
   ]
  },
  {
   "cell_type": "markdown",
   "id": "398d3377",
   "metadata": {},
   "source": [
    "<h3>III. Why it is so difficult?</h3>\n"
   ]
  },
  {
   "cell_type": "markdown",
   "id": "77e1fcf2",
   "metadata": {},
   "source": [
    "Feature Extraction là một công việc khó khăn vì:\n",
    "\n",
    "- Dữ liệu thô có thể có chiều cao và phức tạp, làm cho việc tìm ra các đặc trưng quan trọng rất khó.\n",
    "\n",
    "- Các đặc trưng có thể thay đổi tùy theo ngữ cảnh, khó khăn trong việc phát hiện chúng một cách chính xác.\n",
    "\n",
    "- Việc lựa chọn và loại bỏ nhiễu đòi hỏi sự chính xác cao.\n",
    "\n",
    "- Mô hình tự động như học sâu yêu cầu nhiều dữ liệu và tài nguyên tính toán mạnh mẽ.\n",
    "\n",
    "- Kiến thức chuyên môn và tối ưu hóa tính toán cũng rất quan trọng để làm cho quá trình trích xuất đặc trưng hiệu quả."
   ]
  },
  {
   "cell_type": "markdown",
   "id": "92210bdf",
   "metadata": {},
   "source": [
    "<h3>IV. What is the core ideal?</h3>\n"
   ]
  },
  {
   "cell_type": "markdown",
   "id": "cca45d07",
   "metadata": {},
   "source": [
    "Ý tưởng cốt lõi của Feature Extraction:\n",
    "\n",
    "- Đơn giản hóa dữ liệu phức tạp: Dữ liệu thô, như văn bản, hình ảnh, hoặc âm thanh, có thể rất phức tạp và khó để các mô hình học máy xử lý trực tiếp. Trích xuất đặc trưng giúp đơn giản hóa dữ liệu này bằng cách xác định những đặc trưng quan trọng.\n",
    "\n",
    "- Giảm chiều dữ liệu: Thay vì làm việc với một lượng lớn dữ liệu thô, trích xuất đặc trưng giúp giảm số lượng các biến số bằng cách chọn lọc các đặc trưng quan trọng nhất. Điều này giúp cải thiện hiệu quả tính toán và hiệu suất của mô hình.\n",
    "\n",
    "- Nổi bật các mẫu quan trọng: Trích xuất đặc trưng tập trung vào những mẫu, cấu trúc hoặc mối quan hệ quan trọng trong dữ liệu có liên quan đến nhiệm vụ cụ thể. Ví dụ, trong xử lý hình ảnh, nó có thể tập trung vào các cạnh, hình dạng hoặc kết cấu. Trong phân tích văn bản, nó có thể tập trung vào những từ khóa quan trọng hoặc ý nghĩa ngữ nghĩa.\n",
    "\n",
    "- Cải thiện khả năng học của mô hình: Khi sử dụng các đặc trưng đã được trích xuất, các mô hình học máy có thể học hiệu quả hơn, vì chúng được huấn luyện trên một đại diện dữ liệu rõ ràng và có trọng tâm hơn, giúp tránh hiện tượng overfitting và làm tăng tốc quá trình học.\n",
    "\n",
    "Ví dụ:\n",
    "- Trong xử lý hình ảnh, ý tưởng cốt lõi của trích xuất đặc trưng là chuyển đổi các giá trị pixel thô của một bức ảnh thành các đặc trưng quan trọng như các cạnh, hình dạng, hoặc kết cấu. Những đặc trưng này sẽ dễ dàng hơn cho mô hình xử lý và học từ đó.\n",
    "\n",
    "- Trong xử lý văn bản, trích xuất đặc trưng có thể tập trung vào việc chuyển đổi một tài liệu thành các đặc trưng như tần suất từ (sử dụng phương pháp TF-IDF) hoặc các vector nhúng từ (word embeddings), giúp mô hình hiểu ý nghĩa ngữ nghĩa của từ ngữ."
   ]
  },
  {
   "cell_type": "markdown",
   "id": "e500ceae",
   "metadata": {},
   "source": [
    "<h3>V. Some techniques</h3>"
   ]
  },
  {
   "cell_type": "markdown",
   "id": "fabc89bc",
   "metadata": {},
   "source": [
    "Trong quá trình trích xuất đặc trưng (feature extraction), có nhiều kỹ thuật được sử dụng để chuyển đổi dữ liệu thô thành các đặc trưng có thể sử dụng được cho các mô hình học máy. Các kỹ thuật này có thể áp dụng cho nhiều loại dữ liệu khác nhau như văn bản, hình ảnh, âm thanh, v.v. Dưới đây là một số kỹ thuật phổ biến:\n",
    "\n",
    "1. Kỹ thuật trong Xử lý Hình ảnh\n",
    "\n",
    "Edge Detection (Phát hiện biên): Kỹ thuật này giúp xác định các biên của các vật thể trong hình ảnh. Một số thuật toán phổ biến như Sobel, Canny giúp tìm ra những điểm chuyển tiếp mạnh mẽ trong mức độ sáng của hình ảnh.\n",
    "\n",
    "- Ứng dụng: Xác định các đối tượng hoặc khu vực quan trọng trong hình ảnh.\n",
    "\n",
    "Histogram of Oriented Gradients (HOG): HOG là một kỹ thuật phổ biến để mô tả hình ảnh trong không gian gradient. Nó tính toán các hướng gradient trong một cửa sổ nhỏ và cho phép mô hình nhận diện các đối tượng như khuôn mặt hoặc phương tiện.\n",
    "\n",
    "- Ứng dụng: Nhận dạng khuôn mặt, nhận diện đối tượng.\n",
    "\n",
    "SIFT (Scale-Invariant Feature Transform) và SURF (Speeded-Up Robust Features): Đây là các phương pháp để phát hiện các điểm đặc trưng trong hình ảnh, bất chấp sự thay đổi về tỷ lệ hoặc góc.\n",
    "\n",
    "- Ứng dụng: Nhận diện đối tượng và ghép ảnh.\n",
    "\n",
    "Deep Learning Features: Các mô hình học sâu như Convolutional Neural Networks (CNNs) tự động trích xuất các đặc trưng từ hình ảnh mà không cần sự can thiệp của con người, với khả năng nhận diện các đặc trưng phức tạp từ ảnh.\n",
    "\n",
    "- Ứng dụng: Nhận diện đối tượng, phân loại hình ảnh.\n",
    "\n",
    "2. Kỹ thuật trong Xử lý Văn bản\n",
    "\n",
    "Bag of Words (BoW): Là một kỹ thuật trích xuất đặc trưng phổ biến trong xử lý ngôn ngữ tự nhiên (NLP), nơi các từ trong văn bản được coi là các đặc trưng độc lập. Mỗi tài liệu được biểu diễn dưới dạng một vector của tần suất xuất hiện của các từ.\n",
    "\n",
    "- Ứng dụng: Phân loại văn bản, phân tích cảm xúc.\n",
    "\n",
    "TF-IDF (Term Frequency-Inverse Document Frequency): Là một phương pháp cải tiến của BoW, giúp đánh giá tầm quan trọng của một từ trong một tài liệu cụ thể so với toàn bộ tập tài liệu.\n",
    "\n",
    "- Ứng dụng: Tìm kiếm thông tin, phân loại văn bản.\n",
    "\n",
    "Word Embeddings (Vector hóa từ): Phương pháp này chuyển đổi từ ngữ thành các vector có giá trị liên tục, giúp mô hình hiểu được mối quan hệ giữa các từ. Các mô hình như Word2Vec, GloVe, FastText cho phép chuyển từ ngữ thành các vector đặc trưng có ý nghĩa ngữ nghĩa.\n",
    "\n",
    "- Ứng dụng: Dịch máy, phân tích cảm xúc, tìm kiếm thông tin.\n",
    "\n",
    "Latent Dirichlet Allocation (LDA): LDA là một phương pháp trích xuất đặc trưng giúp phát hiện các chủ đề (topics) trong một bộ tài liệu. Mỗi tài liệu được biểu diễn như một hỗn hợp của các chủ đề.\n",
    "\n",
    "- Ứng dụng: Phân tích chủ đề, tổ chức tài liệu.\n",
    "\n",
    "3. Kỹ thuật trong Xử lý Âm thanh\n",
    "\n",
    "Mel-Frequency Cepstral Coefficients (MFCCs): Đây là một trong những đặc trưng phổ biến nhất trong nhận diện giọng nói và âm thanh. MFCCs mô tả đặc trưng tần số của một tín hiệu âm thanh.\n",
    "\n",
    "- Ứng dụng: Nhận diện giọng nói, phân loại âm thanh.\n",
    "\n",
    "Spectral Features: Các đặc trưng phổ (spectral features) như Zero-Crossing Rate (ZCR), Spectral Centroid, Spectral Rolloff giúp mô tả các đặc tính của tín hiệu âm thanh về mặt phổ tần.\n",
    "\n",
    "- Ứng dụng: Phân loại âm thanh, nhận diện cảm xúc trong giọng nói.\n",
    "\n",
    "Chroma Features: Được sử dụng trong phân tích âm nhạc, đặc trưng chroma mô tả tần số của các nốt nhạc trong tín hiệu âm thanh.\n",
    "\n",
    "- Ứng dụng: Phân loại âm nhạc, nhận diện thể loại âm nhạc.\n",
    "\n",
    "4. Kỹ thuật trong Dữ liệu Dạng Thời gian (Time-Series Data)\n",
    "\n",
    "Fourier Transform (Biến đổi Fourier): Phương pháp này giúp chuyển đổi tín hiệu từ miền thời gian sang miền tần số, giúp phát hiện các đặc trưng tần số trong tín hiệu thời gian.\n",
    "\n",
    "- Ứng dụng: Phân tích tín hiệu, nhận diện tín hiệu.\n",
    "\n",
    "Wavelet Transform: Tương tự như Fourier, nhưng Wavelet cho phép phân tích tín hiệu ở nhiều độ phân giải khác nhau, điều này rất hữu ích trong các tín hiệu có đặc trưng thay đổi theo thời gian.\n",
    "\n",
    "- Ứng dụng: Phân tích dữ liệu cảm biến, phân tích tín hiệu y tế.\n",
    "\n",
    "5. Kỹ thuật Deep Learning trong Feature Extraction\n",
    "\n",
    "Autoencoders: Là một loại mạng nơ-ron không giám sát giúp tự động trích xuất đặc trưng từ dữ liệu. Mạng autoencoder học cách nén dữ liệu thành một dạng đặc trưng có kích thước nhỏ hơn mà vẫn giữ lại thông tin quan trọng.\n",
    "\n",
    "- Ứng dụng: Giảm chiều dữ liệu, nén dữ liệu.\n",
    "\n",
    "Convolutional Neural Networks (CNNs): CNNs là mô hình học sâu đặc biệt hiệu quả trong việc trích xuất đặc trưng từ hình ảnh. Các lớp convolutional trong CNN tự động học các đặc trưng từ ảnh mà không cần sự can thiệp của con người.\n",
    "\n",
    "- Ứng dụng: Nhận diện đối tượng, phân loại hình ảnh.\n",
    "\n"
   ]
  }
 ],
 "metadata": {
  "language_info": {
   "name": "python"
  }
 },
 "nbformat": 4,
 "nbformat_minor": 5
}
