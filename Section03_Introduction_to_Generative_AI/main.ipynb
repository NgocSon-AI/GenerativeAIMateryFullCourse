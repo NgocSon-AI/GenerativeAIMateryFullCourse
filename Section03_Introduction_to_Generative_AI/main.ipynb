{
 "cells": [
  {
   "cell_type": "markdown",
   "id": "554ac99f",
   "metadata": {},
   "source": [
    "<h1>Generative AI</h1>"
   ]
  },
  {
   "cell_type": "markdown",
   "id": "e0a915f7",
   "metadata": {},
   "source": [
    "1. Generative AI (trí tuệ nhân tạo sinh) là một nhánh của trí tuệ nhân tạo (AI), tập trung vào việc tạo ra nội dung mới thay vì chỉ phân tích hoặc xử lý dữ liệu sẵn có. Loại AI này có khả năng tạo ra văn bản, hình ảnh, âm thanh, video, mã lập trình, và nhiều dạng dữ liệu khác, mô phỏng theo cách mà con người sáng tạo."
   ]
  },
  {
   "cell_type": "markdown",
   "id": "52b4c4bb",
   "metadata": {},
   "source": [
    "2. Một số mô hình tiêu biểu:\n",
    "\n",
    "    GPT (Generative Pre-trained Transformer) – do OpenAI phát triển, dùng để tạo văn bản, viết bài, trả lời câu hỏi,...\n",
    "\n",
    "    DALL·E – tạo hình ảnh từ mô tả bằng văn bản.\n",
    "\n",
    "    Stable Diffusion / Midjourney – tạo ảnh nghệ thuật.\n",
    "\n",
    "    MusicLM (Google) – tạo âm nhạc từ mô tả.\n",
    "\n",
    "    Codex – hỗ trợ viết mã lập trình."
   ]
  },
  {
   "cell_type": "markdown",
   "id": "ee034c03",
   "metadata": {},
   "source": [
    "3. Ứng dụng của Generative AI:\n",
    "\n",
    "    📄 Tạo nội dung văn bản: bài viết, email, blog, kịch bản phim,...\n",
    "\n",
    "    🎨 Thiết kế hình ảnh và đồ họa: thiết kế poster, ảnh minh họa,...\n",
    "\n",
    "    🎵 Sáng tác âm nhạc hoặc giọng nói ảo\n",
    "\n",
    "    💬 Chatbots và trợ lý ảo thông minh\n",
    "\n",
    "    🧠 Phát triển ý tưởng sáng tạo\n",
    "\n",
    "    💻 Tự động hóa lập trình hoặc kiểm thử phần mềm"
   ]
  },
  {
   "cell_type": "markdown",
   "id": "d8ec8b4c",
   "metadata": {},
   "source": [
    "4. Công nghệ nền tảng:\n",
    "\n",
    "    Transformer (ra đời năm 2017) là kiến trúc cốt lõi đứng sau các mô hình lớn như GPT, BERT,...\n",
    "\n",
    "    Học có giám sát và học không giám sát để mô hình tự cải thiện khả năng tạo nội dung.\n",
    "\n"
   ]
  },
  {
   "cell_type": "markdown",
   "id": "97069be6",
   "metadata": {},
   "source": [
    "<h2>Why are Generative models required?</h2>"
   ]
  },
  {
   "cell_type": "markdown",
   "id": "dd42dda5",
   "metadata": {},
   "source": [
    "- Understand complex pattern from data\n",
    "- Content generation\n",
    "- Build Powerful Application"
   ]
  },
  {
   "cell_type": "markdown",
   "id": "63e0abbf",
   "metadata": {},
   "source": [
    "<h2>Where Generative AI exists?</h2>"
   ]
  },
  {
   "cell_type": "markdown",
   "id": "fc991c57",
   "metadata": {},
   "source": [
    "- Machine Learning is the subnet of Artificial Intelligence.\n",
    "- Deep Learning is the subnet of Machine Learning.\n",
    "- Generative AI is the subnet of Deep Learning."
   ]
  },
  {
   "cell_type": "markdown",
   "id": "7414c33d",
   "metadata": {},
   "source": [
    "<h2>What is LLMs?</h2>\n",
    "- Large Language Models (LLMs) are foundational machine learning models that use deep learning algorithms to process and understand natural language. These models are trained on massive amounts of text data to learn patterns and entity relationships in the language.\n",
    "\n",
    "- It is a language model which is responsible for performing task such as text to text generation, text to image generation and image to text generation"
   ]
  },
  {
   "cell_type": "markdown",
   "id": "74a2dcdc",
   "metadata": {},
   "source": [
    "<h2>What makes LLM so Powerful?</h2>\n",
    "\n",
    "- In case of LLM, one model can be used for a whole variety of tasks like:\n",
    "Text generation, Chatbot, summarizer, translation, code generation...\n",
    "\n",
    "So, LLM is subnet of Deep Learning & it has some properties merge with Generative AI\n",
    "\n",
    "- Train the model for a specific task"
   ]
  },
  {
   "cell_type": "markdown",
   "id": "9c3362d4",
   "metadata": {},
   "source": [
    "<h2>Few milestone in large language model</h2>\n",
    "\n",
    "- Gemini\n",
    "- GPT\n",
    "- XLM\n",
    "- T5\n",
    "- Llama\n",
    "- Mistral\n",
    "- Falcon"
   ]
  }
 ],
 "metadata": {
  "kernelspec": {
   "display_name": "myenv",
   "language": "python",
   "name": "python3"
  },
  "language_info": {
   "name": "python",
   "version": "3.12.9"
  }
 },
 "nbformat": 4,
 "nbformat_minor": 5
}
